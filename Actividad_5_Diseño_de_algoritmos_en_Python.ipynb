{
  "nbformat": 4,
  "nbformat_minor": 0,
  "metadata": {
    "colab": {
      "provenance": [],
      "authorship_tag": "ABX9TyNUjXweihaMuSv2KmSZCNGg",
      "include_colab_link": true
    },
    "kernelspec": {
      "name": "python3",
      "display_name": "Python 3"
    },
    "language_info": {
      "name": "python"
    }
  },
  "cells": [
    {
      "cell_type": "markdown",
      "metadata": {
        "id": "view-in-github",
        "colab_type": "text"
      },
      "source": [
        "<a href=\"https://colab.research.google.com/github/bysuperboy/IAyRN_AgoDic2024/blob/main/Actividad_5_Dise%C3%B1o_de_algoritmos_en_Python.ipynb\" target=\"_parent\"><img src=\"https://colab.research.google.com/assets/colab-badge.svg\" alt=\"Open In Colab\"/></a>"
      ]
    },
    {
      "cell_type": "code",
      "source": [
        "\"\"\"Crea un programa que genere un numero aleatorio entre 1 y 100, y luego le pida al usuario que adivine el numero. El programa debe proporcionar pistas.\"\"\"\n",
        "import random\n",
        "\n",
        "# Inicializar variables\n",
        "intentos = 0\n",
        "numero_min = 1\n",
        "numero_max = 100\n",
        "\n",
        "# Generar un número aleatorio\n",
        "numero = random.randint(numero_min, numero_max)\n",
        "\n",
        "# Pedir el nombre del usuario\n",
        "print(\"Bienvenido al juego, ¿cuál es tu nombre?\")\n",
        "nombre_usuario = input()\n",
        "\n",
        "print(f\"Bueno, {nombre_usuario}, estoy pensando en un número entre {numero_min} y {numero_max}.\")\n",
        "\n",
        "# Ciclo principal del juego\n",
        "while intentos < 8:\n",
        "    print(\"¿En qué número pienso?\")\n",
        "    adivina = int(input())  # Convertir la entrada del usuario a entero\n",
        "\n",
        "    intentos += 1\n",
        "\n",
        "    # Proporcionar pistas\n",
        "    if adivina < numero:\n",
        "        print(\"Tu número es menor.\")\n",
        "    elif adivina > numero:\n",
        "        print(\"Tu número es mayor.\")\n",
        "    else:\n",
        "        print(f\"¡Adivinaste, {nombre_usuario}! Lo lograste en {intentos} intentos.\")\n",
        "        break\n",
        "else:\n",
        "    # Si se superan los intentos, se revela el número\n",
        "    print(f\"Lo siento, {nombre_usuario}. El número en el que estaba pensando era {numero}.\")"
      ],
      "metadata": {
        "colab": {
          "base_uri": "https://localhost:8080/"
        },
        "id": "RKrRY7B0TkmQ",
        "outputId": "eb4360bc-859c-4f21-8538-f4a6f599b654"
      },
      "execution_count": 3,
      "outputs": [
        {
          "output_type": "stream",
          "name": "stdout",
          "text": [
            "Bienvenido al juego, ¿cuál es tu nombre?\n",
            "Patricio \n",
            "Bueno, Patricio , estoy pensando en un número entre 1 y 100.\n",
            "¿En qué número pienso?\n",
            "56\n",
            "Tu número es menor.\n",
            "¿En qué número pienso?\n",
            "98\n",
            "Tu número es mayor.\n",
            "¿En qué número pienso?\n",
            "90\n",
            "Tu número es mayor.\n",
            "¿En qué número pienso?\n",
            "85\n",
            "Tu número es mayor.\n",
            "¿En qué número pienso?\n",
            "80\n",
            "Tu número es mayor.\n",
            "¿En qué número pienso?\n",
            "76\n",
            "Tu número es mayor.\n",
            "¿En qué número pienso?\n",
            "70\n",
            "Tu número es mayor.\n",
            "¿En qué número pienso?\n",
            "68\n",
            "¡Adivinaste, Patricio ! Lo lograste en 8 intentos.\n"
          ]
        }
      ]
    },
    {
      "cell_type": "code",
      "source": [
        "L = int(input(\"Introduzca el número más bajo: \"))\n",
        "U = int(input(\"Introduzca el número más alto: \"))\n",
        "\n",
        "print(\"Los números primos en el rango son:\")\n",
        "for y in range(L, U + 1):\n",
        "    if y > 1:\n",
        "        for i in range(2, y):\n",
        "            if (y % i) == 0:\n",
        "                break\n",
        "        else:\n",
        "            print(y)"
      ],
      "metadata": {
        "colab": {
          "base_uri": "https://localhost:8080/"
        },
        "id": "iiUz7d8saJ-Z",
        "outputId": "95b3fe19-a847-4362-c29f-e3be7e26132b"
      },
      "execution_count": null,
      "outputs": [
        {
          "output_type": "stream",
          "name": "stdout",
          "text": [
            "Introduzca el número más bajo: 1\n",
            "Introduzca el número más alto: 10\n",
            "Los números primos en el rango son:\n",
            "2\n",
            "3\n",
            "5\n",
            "7\n"
          ]
        }
      ]
    },
    {
      "cell_type": "code",
      "source": [
        "def es_primo(n):\n",
        "    \"\"\"Determina si un número es primo.\"\"\"\n",
        "    if n <= 1:\n",
        "        return False\n",
        "    if n <= 3:\n",
        "        return True\n",
        "    if n % 2 == 0 or n % 3 == 0:\n",
        "        return False\n",
        "    i = 5\n",
        "    while i * i <= n:\n",
        "        if n % i == 0 or n % (i + 2) == 0:\n",
        "            return False\n",
        "        i += 6\n",
        "    return True\n",
        "\n",
        "def mostrar_primos(rango_inicio, rango_fin):\n",
        "    \"\"\"Muestra todos los números primos en el rango dado.\"\"\"\n",
        "    primos = [num for num in range(rango_inicio, rango_fin + 1) if es_primo(num)]\n",
        "    return primos\n",
        "\n",
        "def main():\n",
        "    # Solicitar al usuario el rango de números\n",
        "    while True:\n",
        "        try:\n",
        "            rango_inicio = int(input(\"Ingresa el inicio del rango: \"))\n",
        "            rango_fin = int(input(\"Ingresa el fin del rango: \"))\n",
        "            if rango_inicio > rango_fin:\n",
        "                print(\"El inicio del rango debe ser menor o igual al fin del rango. Inténtalo de nuevo.\")\n",
        "            else:\n",
        "                break\n",
        "        except ValueError:\n",
        "            print(\"Por favor, ingresa números válidos.\")\n",
        "\n",
        "    # Obtener y mostrar los números primos en el rango\n",
        "    primos = mostrar_primos(rango_inicio, rango_fin)\n",
        "    if primos:\n",
        "        print(f\"Números primos en el rango de {rango_inicio} a {rango_fin}: {primos}\")\n",
        "    else:\n",
        "        print(f\"No hay números primos en el rango de {rango_inicio} a {rango_fin}.\")\n",
        "\n",
        "if __name__ == \"__main__\":\n",
        "    main()"
      ],
      "metadata": {
        "colab": {
          "base_uri": "https://localhost:8080/"
        },
        "id": "uyXDS1y2cG-w",
        "outputId": "52dd0289-7134-4716-8da5-da05e8794d5e"
      },
      "execution_count": null,
      "outputs": [
        {
          "output_type": "stream",
          "name": "stdout",
          "text": [
            "Ingresa el inicio del rango: 10\n",
            "Ingresa el fin del rango: 100\n",
            "Números primos en el rango de 10 a 100: [11, 13, 17, 19, 23, 29, 31, 37, 41, 43, 47, 53, 59, 61, 67, 71, 73, 79, 83, 89, 97]\n"
          ]
        }
      ]
    },
    {
      "cell_type": "code",
      "source": [
        "\"\"\"Escribe un programa a que solicite al usuario dos numeros y realice operaciones basicas como suma, resta, multiplicacion y division\"\"\"\n",
        "a= int(input(\"Primer numero: \"))\n",
        "b= int(input(\"Segundo numero: \"))\n",
        "s= a + b\n",
        "r= a - b\n",
        "m= a * b\n",
        "d= a / b\n",
        "print (\"La suma es:\", s)\n",
        "print (\"La resta es:\", r)\n",
        "print (\"El producto es:\", m)\n",
        "print (\"El cociente es:\", d)"
      ],
      "metadata": {
        "colab": {
          "base_uri": "https://localhost:8080/"
        },
        "id": "w0xOMJEJV7Ga",
        "outputId": "ab386b59-5025-4f09-9d9f-e990148b22eb"
      },
      "execution_count": null,
      "outputs": [
        {
          "output_type": "stream",
          "name": "stdout",
          "text": [
            "Primer numero: 1\n",
            "Segundo numero: 2\n",
            "La suma es: 3\n",
            "La resta es: -1\n",
            "El producto es: 2\n",
            "El cociente es: 0.5\n"
          ]
        }
      ]
    }
  ]
}