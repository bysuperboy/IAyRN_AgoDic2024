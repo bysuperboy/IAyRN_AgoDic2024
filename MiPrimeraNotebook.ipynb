{
  "nbformat": 4,
  "nbformat_minor": 0,
  "metadata": {
    "colab": {
      "provenance": [],
      "authorship_tag": "ABX9TyNxVk/2wO8gQyNBFL6oZsrU",
      "include_colab_link": true
    },
    "kernelspec": {
      "name": "python3",
      "display_name": "Python 3"
    },
    "language_info": {
      "name": "python"
    }
  },
  "cells": [
    {
      "cell_type": "markdown",
      "metadata": {
        "id": "view-in-github",
        "colab_type": "text"
      },
      "source": [
        "<a href=\"https://colab.research.google.com/github/bysuperboy/IAyRN_AgoDic2024/blob/main/MiPrimeraNotebook.ipynb\" target=\"_parent\"><img src=\"https://colab.research.google.com/assets/colab-badge.svg\" alt=\"Open In Colab\"/></a>"
      ]
    },
    {
      "cell_type": "markdown",
      "source": [
        "# **Mi primer Notebook**\n",
        "\n",
        "En este notebook se incluyen ejemplos sencillos de del lenguaje en Pyton"
      ],
      "metadata": {
        "id": "KLVJIKvpL6FZ"
      }
    },
    {
      "cell_type": "code",
      "execution_count": 1,
      "metadata": {
        "colab": {
          "base_uri": "https://localhost:8080/"
        },
        "id": "gWzMHlWXLeRY",
        "outputId": "0e03dec5-fd3b-4494-a9a2-25ca8ae4893a"
      },
      "outputs": [
        {
          "output_type": "stream",
          "name": "stdout",
          "text": [
            "¡Hola mundo!\n"
          ]
        }
      ],
      "source": [
        "print(\"¡Hola mundo!\")"
      ]
    }
  ]
}