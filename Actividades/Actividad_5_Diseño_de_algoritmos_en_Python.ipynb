{
  "nbformat": 4,
  "nbformat_minor": 0,
  "metadata": {
    "colab": {
      "provenance": []
    },
    "kernelspec": {
      "name": "python3",
      "display_name": "Python 3"
    },
    "language_info": {
      "name": "python"
    }
  },
  "cells": [
    {
      "cell_type": "markdown",
      "source": [
        "#Actividad 5: Diseño de algoritmos en Python\n",
        "\n",
        "Nombre: Patricio Aguero Millan\n",
        "\n",
        "Matricula: 1998474\n",
        "\n",
        "Hora: N1\n",
        "\n",
        "Dia: LMV"
      ],
      "metadata": {
        "id": "ljlI8e_8_08y"
      }
    },
    {
      "cell_type": "code",
      "source": [
        "\"Ejercicio 1. Desarrolla un algoritmo que le pida al usuario por su nombre y que lo salude con su nombre, excepto si se llama “Ana”, “Juan”, y “Pedro”.\"\n",
        "nombre=input(\"introduce tu nombre:\")\n",
        "if (nombre!=\"Ana\") and (nombre!=\"Pedro\") and (nombre!=\"Juan\"): print(\"Hola \"+nombre+\"!\")"
      ],
      "metadata": {
        "colab": {
          "base_uri": "https://localhost:8080/"
        },
        "id": "HqfMy4tb9Mv9",
        "outputId": "cc088ba1-a099-46c1-883b-ce057a2456bb"
      },
      "execution_count": 5,
      "outputs": [
        {
          "output_type": "stream",
          "name": "stdout",
          "text": [
            "introduce tu nombre:Patricio \n",
            "Hola Patricio !\n"
          ]
        }
      ]
    },
    {
      "cell_type": "code",
      "source": [
        "\"Ejercicio 2. Desarrolla un algoritmo que por medio de una función, le pida al usuario una lista de N elementos y como resultado invierta el sentido de la lista. \"\n",
        "x=input(\"introducir dato de la lista \")\n",
        "y=input(\"introduce otro dato a la lista \")\n",
        "z=input(\"introduce otro dato a la lisa \")\n",
        "lista=[x,y,z]\n",
        "lista.reverse()\n",
        "print(lista)"
      ],
      "metadata": {
        "colab": {
          "base_uri": "https://localhost:8080/"
        },
        "id": "1qOqPQA3909j",
        "outputId": "73a1bc2f-3909-420c-af40-429b37a1162f"
      },
      "execution_count": 6,
      "outputs": [
        {
          "output_type": "stream",
          "name": "stdout",
          "text": [
            "introducir dato de la lista Manzanas\n",
            "introduce otro dato a la lista Mangos\n",
            "introduce otro dato a la lisa Uvas\n",
            "['Uvas', 'Mangos', 'Manzanas']\n"
          ]
        }
      ]
    },
    {
      "cell_type": "code",
      "source": [
        "\"Ejercicio 3. Genera los primeros n números de la serie de Fibonacci.\"\n",
        "def generar_fibonacci(n):\n",
        "    fibonacci = []\n",
        "    a, b = 0, 1\n",
        "    for _ in range(n):\n",
        "        fibonacci.append(a)\n",
        "        a, b = b, a + b\n",
        "    return fibonacci\n",
        "\n",
        "def main():\n",
        "    \"\"\"Solicita al usuario la cantidad de números a generar e imprime la serie de Fibonacci.\"\"\"\n",
        "    while True:\n",
        "        try:\n",
        "            cantidad = int(input(\"¿Cuántos números de la serie de Fibonacci deseas generar? \"))\n",
        "            if cantidad <= 0:\n",
        "                print(\"Por favor, ingresa un número entero positivo.\")\n",
        "            else:\n",
        "                fibonacci_series = generar_fibonacci(cantidad)\n",
        "                print(\"Los primeros\", cantidad, \"números de la serie de Fibonacci son:\")\n",
        "                print(fibonacci_series)\n",
        "                break\n",
        "        except ValueError:\n",
        "            print(\"Entrada no válida. Por favor, ingresa un número entero.\")\n",
        "\n",
        "if __name__ == \"__main__\":\n",
        "    main()"
      ],
      "metadata": {
        "colab": {
          "base_uri": "https://localhost:8080/"
        },
        "id": "nXh3XcwF-T3l",
        "outputId": "0d6ede66-7d2d-4c37-ac24-ce288589fa74"
      },
      "execution_count": 7,
      "outputs": [
        {
          "output_type": "stream",
          "name": "stdout",
          "text": [
            "¿Cuántos números de la serie de Fibonacci deseas generar? 10\n",
            "Los primeros 10 números de la serie de Fibonacci son:\n",
            "[0, 1, 1, 2, 3, 5, 8, 13, 21, 34]\n"
          ]
        }
      ]
    },
    {
      "cell_type": "code",
      "source": [
        "\"Ejercicio 4. Crea un programa que genere un numero aleatorio entre 1 y 100, y luego le pida al usuario que adivine el numero. El programa debe proporcionar pistas.\"\n",
        "import random\n",
        "\n",
        "# Inicializar variables\n",
        "intentos = 0\n",
        "numero_min = 1\n",
        "numero_max = 100\n",
        "\n",
        "# Generar un número aleatorio\n",
        "numero = random.randint(numero_min, numero_max)\n",
        "\n",
        "# Pedir el nombre del usuario\n",
        "print(\"Bienvenido al juego, ¿cuál es tu nombre?\")\n",
        "nombre_usuario = input()\n",
        "\n",
        "print(f\"Bueno, {nombre_usuario}, estoy pensando en un número entre {numero_min} y {numero_max}.\")\n",
        "\n",
        "# Ciclo principal del juego\n",
        "while intentos < 8:\n",
        "    print(\"¿En qué número pienso?\")\n",
        "    adivina = int(input())  # Convertir la entrada del usuario a entero\n",
        "\n",
        "    intentos += 1\n",
        "\n",
        "    # Proporcionar pistas\n",
        "    if adivina < numero:\n",
        "        print(\"Tu número es menor.\")\n",
        "    elif adivina > numero:\n",
        "        print(\"Tu número es mayor.\")\n",
        "    else:\n",
        "        print(f\"¡Adivinaste, {nombre_usuario}! Lo lograste en {intentos} intentos.\")\n",
        "        break\n",
        "else:\n",
        "    # Si se superan los intentos, se revela el número\n",
        "    print(f\"Lo siento, {nombre_usuario}. El número en el que estaba pensando era {numero}.\")"
      ],
      "metadata": {
        "colab": {
          "base_uri": "https://localhost:8080/"
        },
        "id": "RKrRY7B0TkmQ",
        "outputId": "c7129378-b9e3-4414-f6b0-ed4068eb7937"
      },
      "execution_count": 8,
      "outputs": [
        {
          "output_type": "stream",
          "name": "stdout",
          "text": [
            "Bienvenido al juego, ¿cuál es tu nombre?\n",
            "Patricio\n",
            "Bueno, Patricio, estoy pensando en un número entre 1 y 100.\n",
            "¿En qué número pienso?\n",
            "78\n",
            "Tu número es menor.\n",
            "¿En qué número pienso?\n",
            "95\n",
            "Tu número es mayor.\n",
            "¿En qué número pienso?\n",
            "90\n",
            "Tu número es mayor.\n",
            "¿En qué número pienso?\n",
            "87\n",
            "Tu número es menor.\n",
            "¿En qué número pienso?\n",
            "88\n",
            "Tu número es menor.\n",
            "¿En qué número pienso?\n",
            "84\n",
            "Tu número es menor.\n",
            "¿En qué número pienso?\n",
            "85\n",
            "Tu número es menor.\n",
            "¿En qué número pienso?\n",
            "86\n",
            "Tu número es menor.\n",
            "Lo siento, Patricio. El número en el que estaba pensando era 89.\n"
          ]
        }
      ]
    },
    {
      "cell_type": "code",
      "source": [
        "L = int(input(\"Introduzca el número más bajo: \"))\n",
        "U = int(input(\"Introduzca el número más alto: \"))\n",
        "\n",
        "print(\"Los números primos en el rango son:\")\n",
        "for y in range(L, U + 1):\n",
        "    if y > 1:\n",
        "        for i in range(2, y):\n",
        "            if (y % i) == 0:\n",
        "                break\n",
        "        else:\n",
        "            print(y)"
      ],
      "metadata": {
        "colab": {
          "base_uri": "https://localhost:8080/"
        },
        "id": "iiUz7d8saJ-Z",
        "outputId": "b0b7b929-2e0b-4ad6-9dfe-2798730330e0"
      },
      "execution_count": 9,
      "outputs": [
        {
          "output_type": "stream",
          "name": "stdout",
          "text": [
            "Introduzca el número más bajo: 1\n",
            "Introduzca el número más alto: 10\n",
            "Los números primos en el rango son:\n",
            "2\n",
            "3\n",
            "5\n",
            "7\n"
          ]
        }
      ]
    },
    {
      "cell_type": "code",
      "source": [
        "\"Ejercicio 5. Determina si un número es primo.\"\n",
        "def es_primo(n):\n",
        "    if n <= 1:\n",
        "        return False\n",
        "    if n <= 3:\n",
        "        return True\n",
        "    if n % 2 == 0 or n % 3 == 0:\n",
        "        return False\n",
        "    i = 5\n",
        "    while i * i <= n:\n",
        "        if n % i == 0 or n % (i + 2) == 0:\n",
        "            return False\n",
        "        i += 6\n",
        "    return True\n",
        "\n",
        "def mostrar_primos(rango_inicio, rango_fin):\n",
        "    \"\"\"Muestra todos los números primos en el rango dado.\"\"\"\n",
        "    primos = [num for num in range(rango_inicio, rango_fin + 1) if es_primo(num)]\n",
        "    return primos\n",
        "\n",
        "def main():\n",
        "    # Solicitar al usuario el rango de números\n",
        "    while True:\n",
        "        try:\n",
        "            rango_inicio = int(input(\"Ingresa el inicio del rango: \"))\n",
        "            rango_fin = int(input(\"Ingresa el fin del rango: \"))\n",
        "            if rango_inicio > rango_fin:\n",
        "                print(\"El inicio del rango debe ser menor o igual al fin del rango. Inténtalo de nuevo.\")\n",
        "            else:\n",
        "                break\n",
        "        except ValueError:\n",
        "            print(\"Por favor, ingresa números válidos.\")\n",
        "\n",
        "    # Obtener y mostrar los números primos en el rango\n",
        "    primos = mostrar_primos(rango_inicio, rango_fin)\n",
        "    if primos:\n",
        "        print(f\"Números primos en el rango de {rango_inicio} a {rango_fin}: {primos}\")\n",
        "    else:\n",
        "        print(f\"No hay números primos en el rango de {rango_inicio} a {rango_fin}.\")\n",
        "\n",
        "if __name__ == \"__main__\":\n",
        "    main()"
      ],
      "metadata": {
        "colab": {
          "base_uri": "https://localhost:8080/"
        },
        "id": "uyXDS1y2cG-w",
        "outputId": "f6a544a1-4092-4072-8169-39dc79e87dd2"
      },
      "execution_count": 10,
      "outputs": [
        {
          "output_type": "stream",
          "name": "stdout",
          "text": [
            "Ingresa el inicio del rango: 1\n",
            "Ingresa el fin del rango: 100\n",
            "Números primos en el rango de 1 a 100: [2, 3, 5, 7, 11, 13, 17, 19, 23, 29, 31, 37, 41, 43, 47, 53, 59, 61, 67, 71, 73, 79, 83, 89, 97]\n"
          ]
        }
      ]
    },
    {
      "cell_type": "code",
      "source": [
        "\"\"\"Ejercicio 6. Escribe un programa a que solicite al usuario dos numeros y realice operaciones basicas como suma, resta, multiplicacion y division\"\"\"\n",
        "a= int(input(\"Primer numero: \"))\n",
        "b= int(input(\"Segundo numero: \"))\n",
        "s= a + b\n",
        "r= a - b\n",
        "m= a * b\n",
        "d= a / b\n",
        "print (\"La suma es:\", s)\n",
        "print (\"La resta es:\", r)\n",
        "print (\"El producto es:\", m)\n",
        "print (\"El cociente es:\", d)"
      ],
      "metadata": {
        "colab": {
          "base_uri": "https://localhost:8080/"
        },
        "id": "w0xOMJEJV7Ga",
        "outputId": "19346680-97ed-435b-efaa-6e83776e219c"
      },
      "execution_count": 11,
      "outputs": [
        {
          "output_type": "stream",
          "name": "stdout",
          "text": [
            "Primer numero: 10\n",
            "Segundo numero: 100\n",
            "La suma es: 110\n",
            "La resta es: -90\n",
            "El producto es: 1000\n",
            "El cociente es: 0.1\n"
          ]
        }
      ]
    }
  ]
}